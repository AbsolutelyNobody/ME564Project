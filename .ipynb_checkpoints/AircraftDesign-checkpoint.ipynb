{
 "cells": [
  {
   "cell_type": "markdown",
   "metadata": {
    "id": "wIfaZSd7RCDV"
   },
   "source": [
    "Example for plotting"
   ]
  },
  {
   "cell_type": "code",
   "execution_count": null,
   "metadata": {
    "colab": {
     "base_uri": "https://localhost:8080/",
     "height": 295
    },
    "id": "2c2GVqkoPkbZ",
    "outputId": "6e0b4fdb-7128-4a2e-d034-16d0e31ead9a"
   },
   "outputs": [
    {
     "data": {
      "image/png": "[encoded data removed]",
      "text/plain": [
       "<Figure size 432x288 with 1 Axes>"
      ]
     },
     "metadata": {
      "needs_background": "light"
     },
     "output_type": "display_data"
    }
   ],
   "source": [
    "import numpy as np\n",
    "import matplotlib.pyplot as plt\n",
    "x = np.zeros(5)\n",
    "y_1 = np.zeros(5)\n",
    "y_2 = np.zeros(5)\n",
    "for ii in range(5):\n",
    "  x[ii] = ii\n",
    "  y_1[ii] = ii*2\n",
    "  y_2[ii] = ii*3\n",
    "\n",
    "plt.plot(x, y_1, label=\"line w/ slope of 2\")\n",
    "plt.plot(x, y_2, label=\"line w/ slope of 3\")\n",
    "plt.plot()\n",
    "\n",
    "plt.xlabel(\"x axis\")\n",
    "plt.ylabel(\"y axis\")\n",
    "plt.title(\"Line Graph Example\")\n",
    "plt.legend()\n",
    "plt.show()"
   ]
  },
  {
   "cell_type": "markdown",
   "metadata": {
    "id": "Ln1kHEkyUvgx"
   },
   "source": [
    "# Actual project code stuff"
   ]
  },
  {
   "cell_type": "code",
   "execution_count": 30,
   "metadata": {
    "id": "s1JngMEjTMEv"
   },
   "outputs": [],
   "source": [
    "class Aircraft:\n",
    "  def __init__(self, flight, airfoil):\n",
    "    # Step 1: Provide a first estimate of key quantities (Ch8/pg.401)\n",
    "    self.flight = flight\n",
    "    self.airfoil = airfoil\n",
    "    self.fuel_consumption = 2.02*10**(-7)\n",
    "    self.prop_efficiency = 0.85\n",
    "    self.LD_ratio = 14 # this will need to increase\n",
    "    # look at page 406, there is reference to a calculation by Raymer\n",
    "    self.airframe_fraction = 0.05 # this number is too small, was made this size to make solution exist\n",
    "    self.planform_area = 1\n",
    "    self.wetted_area = 1\n",
    "    self.gravity = 32.2 #in lbf\n",
    "    self.ground_air_density = 0.0765 #lb/ft^3\n",
    "    self.aifoil_lift_coef = 1 # not sure how to get this yet\n",
    "\n",
    "\n",
    "    cruise_ratio = 1/exp(self.fuel_consumption/self.prop_efficiency*self.flight.range/self.LD_ratio) # Eq 8.15\n",
    "    # takeoff, climb, cruise, descent, landing\n",
    "    # takeoff and climb can probably get closer to 1, since we have so much fuel\n",
    "    self.weight_ratios = np.array([0.97, 0.985, cruise_ratio, 1, 0.995]) # fuel_fractions\n",
    "    \n",
    "    weight_f = np.prod(self.weight_ratios) # Eq 8.19\n",
    "\n",
    "    self.fuel_fraction  = self.flight.safety * (1-weight_f) # Eq 8.8\n",
    "\n",
    "    self.weight = self.flight.weight_stuff/(1-self.fuel_fraction-self.airframe_fraction) # Eq 8.23\n",
    "    \n",
    "    # Sec 8.4.3\n",
    "    self.wing_loading = self.wetted_area / self.planform_area\n",
    "    self.wing_lift_coef = 0.9*self.airfoil_lift_coef #0.9 from pg 409 as flap deflection @ 45 deg\n",
    "    self.ground_roll = (1.21*(self.wing_loading) / (self.gravity * self.ground_air_density * self.wing_lift_coef *self.thrust_weight))\n"
   ]
  },
  {
   "cell_type": "code",
   "execution_count": 2,
   "metadata": {
    "colab": {
     "base_uri": "https://localhost:8080/",
     "height": 346
    },
    "id": "cFAfKqo9Xnbb",
    "outputId": "8553b6eb-28c2-437a-a5b1-8f30333a8008"
   },
   "outputs": [
    {
     "ename": "NameError",
     "evalue": "name 'BASE_PATH' is not defined",
     "output_type": "error",
     "traceback": [
      "\u001b[0;31m---------------------------------------------------------------------------\u001b[0m",
      "\u001b[0;31mNameError\u001b[0m                                 Traceback (most recent call last)",
      "Cell \u001b[0;32mIn[2], line 58\u001b[0m\n\u001b[1;32m     54\u001b[0m   \u001b[38;5;28mprint\u001b[39m(\u001b[38;5;124mf\u001b[39m\u001b[38;5;124m\"\u001b[39m\u001b[38;5;124mInitial Weight Estimate: \u001b[39m\u001b[38;5;132;01m{\u001b[39;00maircraft\u001b[38;5;241m.\u001b[39mweight\u001b[38;5;132;01m}\u001b[39;00m\u001b[38;5;124m lbs\u001b[39m\u001b[38;5;124m\"\u001b[39m)\n\u001b[1;32m     57\u001b[0m \u001b[38;5;28;01mif\u001b[39;00m \u001b[38;5;18m__name__\u001b[39m \u001b[38;5;241m==\u001b[39m \u001b[38;5;124m'\u001b[39m\u001b[38;5;124m__main__\u001b[39m\u001b[38;5;124m'\u001b[39m:\n\u001b[0;32m---> 58\u001b[0m   \u001b[43mmain\u001b[49m\u001b[43m(\u001b[49m\u001b[43m)\u001b[49m\n",
      "Cell \u001b[0;32mIn[2], line 50\u001b[0m, in \u001b[0;36mmain\u001b[0;34m()\u001b[0m\n\u001b[1;32m     47\u001b[0m flight \u001b[38;5;241m=\u001b[39m Flight(R, CREW, FLIGHT_TIME, SAFETY_FACTOR)\n\u001b[1;32m     49\u001b[0m \u001b[38;5;66;03m# running this extracts the current estimate\u001b[39;00m\n\u001b[0;32m---> 50\u001b[0m airfoil \u001b[38;5;241m=\u001b[39m \u001b[43mAirfoil\u001b[49m\u001b[43m(\u001b[49m\u001b[38;5;124;43m'\u001b[39;49m\u001b[38;5;124;43m./xf-r1046-il-1000000.csv\u001b[39;49m\u001b[38;5;124;43m'\u001b[39;49m\u001b[43m)\u001b[49m\n\u001b[1;32m     52\u001b[0m \u001b[38;5;66;03m# creating the aircraft sets up an initial guess for key quantities\u001b[39;00m\n\u001b[1;32m     53\u001b[0m aircraft \u001b[38;5;241m=\u001b[39m Aircraft(flight, airfoil)\n",
      "Cell \u001b[0;32mIn[2], line 27\u001b[0m, in \u001b[0;36mAirfoil.__init__\u001b[0;34m(self, filepath)\u001b[0m\n\u001b[1;32m     26\u001b[0m \u001b[38;5;28;01mdef\u001b[39;00m \u001b[38;5;21m__init__\u001b[39m(\u001b[38;5;28mself\u001b[39m, filepath):\n\u001b[0;32m---> 27\u001b[0m   \u001b[38;5;28mprint\u001b[39m(\u001b[43mBASE_PATH\u001b[49m\u001b[38;5;241m+\u001b[39mfilepath)\n\u001b[1;32m     28\u001b[0m   \u001b[38;5;28mself\u001b[39m\u001b[38;5;241m.\u001b[39mairfoil_data \u001b[38;5;241m=\u001b[39m np\u001b[38;5;241m.\u001b[39mgenfromtxt(filepath, delimiter\u001b[38;5;241m=\u001b[39m\u001b[38;5;124m'\u001b[39m\u001b[38;5;124m,\u001b[39m\u001b[38;5;124m'\u001b[39m)\n\u001b[1;32m     29\u001b[0m   \u001b[38;5;28mself\u001b[39m\u001b[38;5;241m.\u001b[39mmax_cl \u001b[38;5;241m=\u001b[39m \u001b[38;5;28mself\u001b[39m\u001b[38;5;241m.\u001b[39mget_max_cl()\n",
      "\u001b[0;31mNameError\u001b[0m: name 'BASE_PATH' is not defined"
     ]
    }
   ],
   "source": [
    "from math import exp\n",
    "\n",
    "import numpy as np\n",
    "\n",
    "# Conversion Factors\n",
    "KM_TO_MILES = 5/8\n",
    "MILES_TO_FEET = 5280\n",
    "KG_TO_LBS = 2.2\n",
    "\n",
    "# Non-technical constants\n",
    "CREW_MEMBER_WEIGHT = 70 # kg\n",
    "CREW_PAYLOAD_WEIGHT = 10 # kg, food, water, and personal items per person\n",
    "\n",
    "\n",
    "class Flight:\n",
    "  def __init__(self, range, crew, time, safety):\n",
    "    self.range = range * KM_TO_MILES * MILES_TO_FEET\n",
    "    self.crew = crew\n",
    "    self.time = time\n",
    "    # are chairs part of airframe, or are chairs in this weight\n",
    "    self.weight_stuff = self.crew * (CREW_MEMBER_WEIGHT + CREW_PAYLOAD_WEIGHT) * KG_TO_LBS\n",
    "    self.safety = safety\n",
    "\n",
    "\n",
    "class Airfoil:\n",
    "  def __init__(self, filepath):\n",
    "    print(BASE_PATH+filepath)\n",
    "    self.airfoil_data = np.genfromtxt(filepath, delimiter=',')\n",
    "    self.max_cl = self.get_max_cl()\n",
    "\n",
    "  def get_max_cl(self):\n",
    "    max_cl = 0\n",
    "    for line in self.airfoil_data:\n",
    "      cl = line[1]\n",
    "      if cl>max_cl:\n",
    "        max_cl = cl\n",
    "    return max_cl\n",
    "\n",
    "def main():\n",
    "  # Flight information\n",
    "  R = 40000 # km\n",
    "  CREW = 2 # people\n",
    "  FLIGHT_TIME = 10 # days\n",
    "  SAFETY_FACTOR = 1.01 \n",
    "  \n",
    "  # this just stores the goal, vs details of aircraft\n",
    "  flight = Flight(R, CREW, FLIGHT_TIME, SAFETY_FACTOR)\n",
    "\n",
    "  # running this extracts the current estimate\n",
    "  airfoil = Airfoil('./xf-r1046-il-1000000.csv')\n",
    "\n",
    "  # creating the aircraft sets up an initial guess for key quantities\n",
    "  aircraft = Aircraft(flight, airfoil)\n",
    "  print(f\"Initial Weight Estimate: {aircraft.weight} lbs\")\n",
    "\n",
    "\n",
    "if __name__ == '__main__':\n",
    "  main()\n"
   ]
  },
  {
   "cell_type": "markdown",
   "metadata": {
    "id": "v2jtvFtdTJ8a"
   },
   "source": [
    "# New Section"
   ]
  }
 ],
 "metadata": {
  "colab": {
   "provenance": []
  },
  "kernelspec": {
   "display_name": "Python 3 (ipykernel)",
   "language": "python",
   "name": "python3"
  },
  "language_info": {
   "codemirror_mode": {
    "name": "ipython",
    "version": 3
   },
   "file_extension": ".py",
   "mimetype": "text/x-python",
   "name": "python",
   "nbconvert_exporter": "python",
   "pygments_lexer": "ipython3",
   "version": "3.8.10"
  }
 },
 "nbformat": 4,
 "nbformat_minor": 1
}
